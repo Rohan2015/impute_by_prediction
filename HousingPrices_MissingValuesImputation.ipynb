{
 "cells": [
  {
   "cell_type": "markdown",
   "metadata": {},
   "source": [
    "# Imputing missing values using LinearRegression"
   ]
  },
  {
   "cell_type": "code",
   "execution_count": 1,
   "metadata": {
    "collapsed": true
   },
   "outputs": [],
   "source": [
    "import pandas as pd\n",
    "pd.set_option('display.max_columns', 50)\n",
    "import numpy as np\n",
    "from sklearn.linear_model import LinearRegression"
   ]
  },
  {
   "cell_type": "code",
   "execution_count": 2,
   "metadata": {},
   "outputs": [
    {
     "data": {
      "text/html": [
       "<div>\n",
       "<style>\n",
       "    .dataframe thead tr:only-child th {\n",
       "        text-align: right;\n",
       "    }\n",
       "\n",
       "    .dataframe thead th {\n",
       "        text-align: left;\n",
       "    }\n",
       "\n",
       "    .dataframe tbody tr th {\n",
       "        vertical-align: top;\n",
       "    }\n",
       "</style>\n",
       "<table border=\"1\" class=\"dataframe\">\n",
       "  <thead>\n",
       "    <tr style=\"text-align: right;\">\n",
       "      <th></th>\n",
       "      <th>LotFrontage</th>\n",
       "      <th>LotArea</th>\n",
       "      <th>OverallQual</th>\n",
       "      <th>OverallCond</th>\n",
       "      <th>YearBuilt</th>\n",
       "      <th>YearRemodAdd</th>\n",
       "      <th>MasVnrArea</th>\n",
       "      <th>BsmtFinSF1</th>\n",
       "      <th>BsmtFinSF2</th>\n",
       "      <th>BsmtUnfSF</th>\n",
       "      <th>TotalBsmtSF</th>\n",
       "      <th>1stFlrSF</th>\n",
       "      <th>2ndFlrSF</th>\n",
       "      <th>LowQualFinSF</th>\n",
       "      <th>GrLivArea</th>\n",
       "      <th>BsmtFullBath</th>\n",
       "      <th>BsmtHalfBath</th>\n",
       "      <th>FullBath</th>\n",
       "      <th>HalfBath</th>\n",
       "      <th>BedroomAbvGr</th>\n",
       "      <th>KitchenAbvGr</th>\n",
       "      <th>TotRmsAbvGrd</th>\n",
       "      <th>Fireplaces</th>\n",
       "      <th>GarageYrBlt</th>\n",
       "      <th>GarageCars</th>\n",
       "      <th>GarageArea</th>\n",
       "      <th>WoodDeckSF</th>\n",
       "      <th>OpenPorchSF</th>\n",
       "      <th>EnclosedPorch</th>\n",
       "      <th>3SsnPorch</th>\n",
       "      <th>ScreenPorch</th>\n",
       "      <th>PoolArea</th>\n",
       "      <th>MiscVal</th>\n",
       "      <th>YrSold</th>\n",
       "      <th>SalePrice</th>\n",
       "    </tr>\n",
       "  </thead>\n",
       "  <tbody>\n",
       "    <tr>\n",
       "      <th>0</th>\n",
       "      <td>65.0</td>\n",
       "      <td>8450</td>\n",
       "      <td>7</td>\n",
       "      <td>5</td>\n",
       "      <td>2003</td>\n",
       "      <td>2003</td>\n",
       "      <td>196.0</td>\n",
       "      <td>706</td>\n",
       "      <td>0</td>\n",
       "      <td>150</td>\n",
       "      <td>856</td>\n",
       "      <td>856</td>\n",
       "      <td>854</td>\n",
       "      <td>0</td>\n",
       "      <td>1710</td>\n",
       "      <td>1</td>\n",
       "      <td>0</td>\n",
       "      <td>2</td>\n",
       "      <td>1</td>\n",
       "      <td>3</td>\n",
       "      <td>1</td>\n",
       "      <td>8</td>\n",
       "      <td>0</td>\n",
       "      <td>2003.0</td>\n",
       "      <td>2</td>\n",
       "      <td>548</td>\n",
       "      <td>0</td>\n",
       "      <td>61</td>\n",
       "      <td>0</td>\n",
       "      <td>0</td>\n",
       "      <td>0</td>\n",
       "      <td>0</td>\n",
       "      <td>0</td>\n",
       "      <td>2008</td>\n",
       "      <td>208500</td>\n",
       "    </tr>\n",
       "    <tr>\n",
       "      <th>1</th>\n",
       "      <td>80.0</td>\n",
       "      <td>9600</td>\n",
       "      <td>6</td>\n",
       "      <td>8</td>\n",
       "      <td>1976</td>\n",
       "      <td>1976</td>\n",
       "      <td>0.0</td>\n",
       "      <td>978</td>\n",
       "      <td>0</td>\n",
       "      <td>284</td>\n",
       "      <td>1262</td>\n",
       "      <td>1262</td>\n",
       "      <td>0</td>\n",
       "      <td>0</td>\n",
       "      <td>1262</td>\n",
       "      <td>0</td>\n",
       "      <td>1</td>\n",
       "      <td>2</td>\n",
       "      <td>0</td>\n",
       "      <td>3</td>\n",
       "      <td>1</td>\n",
       "      <td>6</td>\n",
       "      <td>1</td>\n",
       "      <td>1976.0</td>\n",
       "      <td>2</td>\n",
       "      <td>460</td>\n",
       "      <td>298</td>\n",
       "      <td>0</td>\n",
       "      <td>0</td>\n",
       "      <td>0</td>\n",
       "      <td>0</td>\n",
       "      <td>0</td>\n",
       "      <td>0</td>\n",
       "      <td>2007</td>\n",
       "      <td>181500</td>\n",
       "    </tr>\n",
       "    <tr>\n",
       "      <th>2</th>\n",
       "      <td>68.0</td>\n",
       "      <td>11250</td>\n",
       "      <td>7</td>\n",
       "      <td>5</td>\n",
       "      <td>2001</td>\n",
       "      <td>2002</td>\n",
       "      <td>162.0</td>\n",
       "      <td>486</td>\n",
       "      <td>0</td>\n",
       "      <td>434</td>\n",
       "      <td>920</td>\n",
       "      <td>920</td>\n",
       "      <td>866</td>\n",
       "      <td>0</td>\n",
       "      <td>1786</td>\n",
       "      <td>1</td>\n",
       "      <td>0</td>\n",
       "      <td>2</td>\n",
       "      <td>1</td>\n",
       "      <td>3</td>\n",
       "      <td>1</td>\n",
       "      <td>6</td>\n",
       "      <td>1</td>\n",
       "      <td>2001.0</td>\n",
       "      <td>2</td>\n",
       "      <td>608</td>\n",
       "      <td>0</td>\n",
       "      <td>42</td>\n",
       "      <td>0</td>\n",
       "      <td>0</td>\n",
       "      <td>0</td>\n",
       "      <td>0</td>\n",
       "      <td>0</td>\n",
       "      <td>2008</td>\n",
       "      <td>223500</td>\n",
       "    </tr>\n",
       "    <tr>\n",
       "      <th>3</th>\n",
       "      <td>60.0</td>\n",
       "      <td>9550</td>\n",
       "      <td>7</td>\n",
       "      <td>5</td>\n",
       "      <td>1915</td>\n",
       "      <td>1970</td>\n",
       "      <td>0.0</td>\n",
       "      <td>216</td>\n",
       "      <td>0</td>\n",
       "      <td>540</td>\n",
       "      <td>756</td>\n",
       "      <td>961</td>\n",
       "      <td>756</td>\n",
       "      <td>0</td>\n",
       "      <td>1717</td>\n",
       "      <td>1</td>\n",
       "      <td>0</td>\n",
       "      <td>1</td>\n",
       "      <td>0</td>\n",
       "      <td>3</td>\n",
       "      <td>1</td>\n",
       "      <td>7</td>\n",
       "      <td>1</td>\n",
       "      <td>1998.0</td>\n",
       "      <td>3</td>\n",
       "      <td>642</td>\n",
       "      <td>0</td>\n",
       "      <td>35</td>\n",
       "      <td>272</td>\n",
       "      <td>0</td>\n",
       "      <td>0</td>\n",
       "      <td>0</td>\n",
       "      <td>0</td>\n",
       "      <td>2006</td>\n",
       "      <td>140000</td>\n",
       "    </tr>\n",
       "    <tr>\n",
       "      <th>4</th>\n",
       "      <td>84.0</td>\n",
       "      <td>14260</td>\n",
       "      <td>8</td>\n",
       "      <td>5</td>\n",
       "      <td>2000</td>\n",
       "      <td>2000</td>\n",
       "      <td>350.0</td>\n",
       "      <td>655</td>\n",
       "      <td>0</td>\n",
       "      <td>490</td>\n",
       "      <td>1145</td>\n",
       "      <td>1145</td>\n",
       "      <td>1053</td>\n",
       "      <td>0</td>\n",
       "      <td>2198</td>\n",
       "      <td>1</td>\n",
       "      <td>0</td>\n",
       "      <td>2</td>\n",
       "      <td>1</td>\n",
       "      <td>4</td>\n",
       "      <td>1</td>\n",
       "      <td>9</td>\n",
       "      <td>1</td>\n",
       "      <td>2000.0</td>\n",
       "      <td>3</td>\n",
       "      <td>836</td>\n",
       "      <td>192</td>\n",
       "      <td>84</td>\n",
       "      <td>0</td>\n",
       "      <td>0</td>\n",
       "      <td>0</td>\n",
       "      <td>0</td>\n",
       "      <td>0</td>\n",
       "      <td>2008</td>\n",
       "      <td>250000</td>\n",
       "    </tr>\n",
       "  </tbody>\n",
       "</table>\n",
       "</div>"
      ],
      "text/plain": [
       "   LotFrontage  LotArea  OverallQual  OverallCond  YearBuilt  YearRemodAdd  \\\n",
       "0         65.0     8450            7            5       2003          2003   \n",
       "1         80.0     9600            6            8       1976          1976   \n",
       "2         68.0    11250            7            5       2001          2002   \n",
       "3         60.0     9550            7            5       1915          1970   \n",
       "4         84.0    14260            8            5       2000          2000   \n",
       "\n",
       "   MasVnrArea  BsmtFinSF1  BsmtFinSF2  BsmtUnfSF  TotalBsmtSF  1stFlrSF  \\\n",
       "0       196.0         706           0        150          856       856   \n",
       "1         0.0         978           0        284         1262      1262   \n",
       "2       162.0         486           0        434          920       920   \n",
       "3         0.0         216           0        540          756       961   \n",
       "4       350.0         655           0        490         1145      1145   \n",
       "\n",
       "   2ndFlrSF  LowQualFinSF  GrLivArea  BsmtFullBath  BsmtHalfBath  FullBath  \\\n",
       "0       854             0       1710             1             0         2   \n",
       "1         0             0       1262             0             1         2   \n",
       "2       866             0       1786             1             0         2   \n",
       "3       756             0       1717             1             0         1   \n",
       "4      1053             0       2198             1             0         2   \n",
       "\n",
       "   HalfBath  BedroomAbvGr  KitchenAbvGr  TotRmsAbvGrd  Fireplaces  \\\n",
       "0         1             3             1             8           0   \n",
       "1         0             3             1             6           1   \n",
       "2         1             3             1             6           1   \n",
       "3         0             3             1             7           1   \n",
       "4         1             4             1             9           1   \n",
       "\n",
       "   GarageYrBlt  GarageCars  GarageArea  WoodDeckSF  OpenPorchSF  \\\n",
       "0       2003.0           2         548           0           61   \n",
       "1       1976.0           2         460         298            0   \n",
       "2       2001.0           2         608           0           42   \n",
       "3       1998.0           3         642           0           35   \n",
       "4       2000.0           3         836         192           84   \n",
       "\n",
       "   EnclosedPorch  3SsnPorch  ScreenPorch  PoolArea  MiscVal  YrSold  SalePrice  \n",
       "0              0          0            0         0        0    2008     208500  \n",
       "1              0          0            0         0        0    2007     181500  \n",
       "2              0          0            0         0        0    2008     223500  \n",
       "3            272          0            0         0        0    2006     140000  \n",
       "4              0          0            0         0        0    2008     250000  "
      ]
     },
     "execution_count": 2,
     "metadata": {},
     "output_type": "execute_result"
    }
   ],
   "source": [
    "df = pd.read_csv('house_prices_multivariate.csv')\n",
    "df.head()"
   ]
  },
  {
   "cell_type": "markdown",
   "metadata": {},
   "source": [
    "# Check for missing values"
   ]
  },
  {
   "cell_type": "code",
   "execution_count": 3,
   "metadata": {},
   "outputs": [
    {
     "data": {
      "text/plain": [
       "False"
      ]
     },
     "execution_count": 3,
     "metadata": {},
     "output_type": "execute_result"
    }
   ],
   "source": [
    "df.isnull().values.any()"
   ]
  },
  {
   "cell_type": "markdown",
   "metadata": {},
   "source": [
    "# Feature names"
   ]
  },
  {
   "cell_type": "code",
   "execution_count": 4,
   "metadata": {},
   "outputs": [
    {
     "data": {
      "text/plain": [
       "array(['LotFrontage', 'LotArea', 'OverallQual', 'OverallCond', 'YearBuilt',\n",
       "       'YearRemodAdd', 'MasVnrArea', 'BsmtFinSF1', 'BsmtFinSF2',\n",
       "       'BsmtUnfSF', 'TotalBsmtSF', '1stFlrSF', '2ndFlrSF', 'LowQualFinSF',\n",
       "       'GrLivArea', 'BsmtFullBath', 'BsmtHalfBath', 'FullBath', 'HalfBath',\n",
       "       'BedroomAbvGr', 'KitchenAbvGr', 'TotRmsAbvGrd', 'Fireplaces',\n",
       "       'GarageYrBlt', 'GarageCars', 'GarageArea', 'WoodDeckSF',\n",
       "       'OpenPorchSF', 'EnclosedPorch', '3SsnPorch', 'ScreenPorch',\n",
       "       'PoolArea', 'MiscVal', 'YrSold', 'SalePrice'], dtype=object)"
      ]
     },
     "execution_count": 4,
     "metadata": {},
     "output_type": "execute_result"
    }
   ],
   "source": [
    "df.columns.values"
   ]
  },
  {
   "cell_type": "markdown",
   "metadata": {},
   "source": [
    "# Function to get the most correlated feature pairs"
   ]
  },
  {
   "cell_type": "code",
   "execution_count": 5,
   "metadata": {
    "collapsed": true
   },
   "outputs": [],
   "source": [
    "## Functions to get top correlated feature pairs \n",
    "def get_redundant_pairs(df):\n",
    "    '''Get diagonal and lower triangular pairs of correlation matrix'''\n",
    "    pairs_to_drop = set()\n",
    "    cols = df.columns\n",
    "    for i in range(0, df.shape[1]):\n",
    "        for j in range(0, i+1):\n",
    "            pairs_to_drop.add((cols[i], cols[j]))\n",
    "    return pairs_to_drop\n",
    "\n",
    "def get_top_abs_correlations(df, n=5):\n",
    "    au_corr = df.corr().abs().unstack()\n",
    "    labels_to_drop = get_redundant_pairs(df)\n",
    "    au_corr = au_corr.drop(labels=labels_to_drop).sort_values(ascending=False)\n",
    "    return au_corr[0:n]\n",
    "\n",
    "# credits : Arun (stackoverflow : https://stackoverflow.com/questions/17778394/list-highest-correlation-pairs-from-a-large-correlation-matrix-in-pandas)"
   ]
  },
  {
   "cell_type": "code",
   "execution_count": 6,
   "metadata": {},
   "outputs": [
    {
     "data": {
      "text/plain": [
       "GarageCars   GarageArea      0.831481\n",
       "YearBuilt    GarageYrBlt     0.825667\n",
       "TotalBsmtSF  1stFlrSF        0.822469\n",
       "GrLivArea    TotRmsAbvGrd    0.820975\n",
       "OverallQual  SalePrice       0.787228\n",
       "dtype: float64"
      ]
     },
     "execution_count": 6,
     "metadata": {},
     "output_type": "execute_result"
    }
   ],
   "source": [
    "get_top_abs_correlations(df)"
   ]
  },
  {
   "cell_type": "markdown",
   "metadata": {},
   "source": [
    "# Replace some values in '1stFlrSF' to 'NaN' to impute later"
   ]
  },
  {
   "cell_type": "code",
   "execution_count": 7,
   "metadata": {
    "collapsed": true
   },
   "outputs": [],
   "source": [
    "# Before that ! save the originals and their positions, given the condition.\n",
    "poz = []\n",
    "y_orig = []\n",
    "for m, val2 in enumerate(df['1stFlrSF']):\n",
    "    if val2 >= 1300:\n",
    "        y_orig.append(df['1stFlrSF'][m])\n",
    "        poz.append(m)"
   ]
  },
  {
   "cell_type": "code",
   "execution_count": 8,
   "metadata": {
    "scrolled": true
   },
   "outputs": [
    {
     "name": "stdout",
     "output_type": "stream",
     "text": [
      "0        856.0\n",
      "1       1262.0\n",
      "2        920.0\n",
      "3        961.0\n",
      "4       1145.0\n",
      "5        796.0\n",
      "6          NaN\n",
      "7       1107.0\n",
      "8       1022.0\n",
      "9       1077.0\n",
      "10      1040.0\n",
      "11      1182.0\n",
      "12       912.0\n",
      "13         NaN\n",
      "14      1253.0\n",
      "15       854.0\n",
      "16      1004.0\n",
      "17      1296.0\n",
      "18      1114.0\n",
      "19         NaN\n",
      "20      1158.0\n",
      "21      1108.0\n",
      "22         NaN\n",
      "23      1060.0\n",
      "24      1060.0\n",
      "25         NaN\n",
      "26       900.0\n",
      "27         NaN\n",
      "28         NaN\n",
      "29       520.0\n",
      "         ...  \n",
      "1349    1048.0\n",
      "1350     804.0\n",
      "1351       NaN\n",
      "1352     734.0\n",
      "1353     958.0\n",
      "1354     968.0\n",
      "1355     962.0\n",
      "1356    1126.0\n",
      "1357       NaN\n",
      "1358     864.0\n",
      "1359       NaN\n",
      "1360    1236.0\n",
      "1361    1040.0\n",
      "1362       NaN\n",
      "1363     848.0\n",
      "1364    1026.0\n",
      "1365     952.0\n",
      "1366       NaN\n",
      "1367     913.0\n",
      "1368    1188.0\n",
      "1369    1220.0\n",
      "1370     796.0\n",
      "1371       NaN\n",
      "1372    1072.0\n",
      "1373    1221.0\n",
      "1374     953.0\n",
      "1375       NaN\n",
      "1376    1188.0\n",
      "1377    1078.0\n",
      "1378    1256.0\n",
      "Name: 1stFlrSF, Length: 1379, dtype: float64\n"
     ]
    }
   ],
   "source": [
    "df['1stFlrSF'] = df['1stFlrSF'].map(lambda x: np.nan if x >= 1300 else x).values\n",
    "print df['1stFlrSF']"
   ]
  },
  {
   "cell_type": "markdown",
   "metadata": {},
   "source": [
    "# Check for missing values again"
   ]
  },
  {
   "cell_type": "code",
   "execution_count": 9,
   "metadata": {},
   "outputs": [
    {
     "data": {
      "text/plain": [
       "True"
      ]
     },
     "execution_count": 9,
     "metadata": {},
     "output_type": "execute_result"
    }
   ],
   "source": [
    "df.isnull().values.any()"
   ]
  },
  {
   "cell_type": "markdown",
   "metadata": {},
   "source": [
    "# Make 4 copies of the dataframe inorder to check r2_score after imputing by \n",
    "* Mean -> df1\n",
    "* Median -> df2\n",
    "* Mode -> df3\n",
    "* Regression -> df4"
   ]
  },
  {
   "cell_type": "code",
   "execution_count": 10,
   "metadata": {
    "collapsed": true
   },
   "outputs": [],
   "source": [
    "df1 = df.copy()\n",
    "df2 = df.copy()\n",
    "df3 = df.copy()\n",
    "df4 = df.copy()"
   ]
  },
  {
   "cell_type": "markdown",
   "metadata": {},
   "source": [
    "# Imputing with mean, median and mode"
   ]
  },
  {
   "cell_type": "code",
   "execution_count": 11,
   "metadata": {
    "collapsed": true
   },
   "outputs": [],
   "source": [
    "df1['1stFlrSF'] = df1['1stFlrSF'].fillna(df1['1stFlrSF'].mean())\n",
    "df2['1stFlrSF'] = df2['1stFlrSF'].fillna(df2['1stFlrSF'].median())\n",
    "df3['1stFlrSF'] = df3['1stFlrSF'].fillna(df3['1stFlrSF'].mode()[0])"
   ]
  },
  {
   "cell_type": "code",
   "execution_count": 12,
   "metadata": {},
   "outputs": [],
   "source": [
    "# Save the values of the imputed to lists to compare\n",
    "def imputed_list(DF):\n",
    "    lis = []\n",
    "    for i in poz:\n",
    "            lis.append(DF['1stFlrSF'][i])\n",
    "    return lis\n",
    "y_mean = imputed_list(df1)\n",
    "y_median = imputed_list(df2)\n",
    "y_mode = imputed_list(df3)"
   ]
  },
  {
   "cell_type": "markdown",
   "metadata": {},
   "source": [
    "# Function to predict and impute missing values "
   ]
  },
  {
   "cell_type": "code",
   "execution_count": 13,
   "metadata": {
    "collapsed": true
   },
   "outputs": [],
   "source": [
    "def regression_imputer(col1,col2):\n",
    "    # import the necessary libraries\n",
    "    import pandas as pd\n",
    "    # using below assignment to curb 'SettingWithCopyWarning'\n",
    "    pd.options.mode.chained_assignment = None\n",
    "    import numpy as np\n",
    "    from sklearn.linear_model import LinearRegression\n",
    "    \n",
    "    # make a dataframe out of the columns\n",
    "    df = pd.DataFrame({'imputer':col1,'imputee':col2})\n",
    "    \n",
    "    # check if the imputee has missing values. return if no\n",
    "    if not df['imputee'].isnull().values.any():\n",
    "        return df['imputee']\n",
    "    \n",
    "    # train and test split\n",
    "    X_train = df['imputer'].where(df['imputee'].notnull()).dropna()\n",
    "    y_train = df['imputee'].where(df['imputee'].notnull()).dropna()\n",
    "    X_test = df['imputer'].where(df['imputee'].isnull()).dropna()\n",
    "    \n",
    "    # train model and return predicted values\n",
    "    model = LinearRegression()\n",
    "    model = model.fit(X_train[:,np.newaxis],y_train)\n",
    "    y_predict = model.predict(X_test[:,np.newaxis])\n",
    "    \n",
    "    # update the missing values with predicted values\n",
    "    pos = 0\n",
    "    for i,val in enumerate(df['imputee']):\n",
    "        if pd.isnull(val):\n",
    "            df['imputee'][i] = y_predict[pos]\n",
    "            pos += 1\n",
    "    return df['imputee']"
   ]
  },
  {
   "cell_type": "markdown",
   "metadata": {},
   "source": [
    "## The 2 correlated features, (one with all values and other with missing values)\n",
    "## to be fed as input to our function as an array"
   ]
  },
  {
   "cell_type": "code",
   "execution_count": 14,
   "metadata": {
    "collapsed": true
   },
   "outputs": [],
   "source": [
    "col1 = df4['TotalBsmtSF']\n",
    "col2 = df4['1stFlrSF']"
   ]
  },
  {
   "cell_type": "markdown",
   "metadata": {},
   "source": [
    "# Function call to impute the column by regression"
   ]
  },
  {
   "cell_type": "code",
   "execution_count": 15,
   "metadata": {
    "collapsed": true,
    "scrolled": true
   },
   "outputs": [],
   "source": [
    "df4['1stFlrSF'] = regression_imputer(col1,col2)\n",
    "# df4['1stFlrSF'].isnull().values.any()\n",
    "# df4['1stFlrSF']"
   ]
  },
  {
   "cell_type": "code",
   "execution_count": 16,
   "metadata": {},
   "outputs": [
    {
     "name": "stdout",
     "output_type": "stream",
     "text": [
      "448 448 448 448 448\n"
     ]
    }
   ],
   "source": [
    "# Save the values of the imputed to lists to compare\n",
    "y_prediction = imputed_list(df4)\n",
    "print len(y_prediction), len(y_orig), len(y_mean), len(y_median), len(y_mode)"
   ]
  },
  {
   "cell_type": "markdown",
   "metadata": {},
   "source": [
    "\n",
    "# Check the r2 score for each type of imputation"
   ]
  },
  {
   "cell_type": "code",
   "execution_count": 17,
   "metadata": {
    "collapsed": true
   },
   "outputs": [],
   "source": [
    "# list for the sake of printing\n",
    "method = ['mean','median','mode','regression']\n",
    "\n",
    "# Call in train_test_split\n",
    "from sklearn.model_selection import train_test_split\n",
    "\n",
    "# Call in the metric\n",
    "from sklearn.metrics import r2_score\n",
    "\n",
    "# Create a global model\n",
    "from sklearn.linear_model import LinearRegression\n",
    "model = LinearRegression()\n",
    "\n",
    "def test_imputation(lis):\n",
    "    pos = 0\n",
    "    for dataframe in lis:\n",
    "        X = dataframe.iloc[:,0:-1]\n",
    "        y = dataframe.iloc[:,-1]\n",
    "        X_train, X_test, y_train, y_test = train_test_split(X,y,test_size=0.2,random_state=9)\n",
    "        model.fit(X_train,y_train)\n",
    "        y_pred = model.predict(X_test)\n",
    "        r2Score = r2_score(y_pred,y_test)\n",
    "        print \" r2score of\",method[pos],\"\\t:\",r2Score\n",
    "        pos += 1"
   ]
  },
  {
   "cell_type": "code",
   "execution_count": 18,
   "metadata": {},
   "outputs": [
    {
     "name": "stdout",
     "output_type": "stream",
     "text": [
      " r2score of mean \t: 0.692974802164\n",
      " r2score of median \t: 0.692975151348\n",
      " r2score of mode \t: 0.693052480887\n",
      " r2score of regression \t: 0.692892534023\n"
     ]
    }
   ],
   "source": [
    "# Let's pass a list of df's\n",
    "lis = [df1,df2,df3,df4]\n",
    "\n",
    "test_imputation(lis)"
   ]
  },
  {
   "cell_type": "markdown",
   "metadata": {},
   "source": [
    "# Got lesser score than the rest !!! :/ Let's blame the dataset, eh ? -_-\n",
    "\n",
    "# Comparing the values below"
   ]
  },
  {
   "cell_type": "code",
   "execution_count": 20,
   "metadata": {},
   "outputs": [
    {
     "data": {
      "text/html": [
       "<div>\n",
       "<style>\n",
       "    .dataframe thead tr:only-child th {\n",
       "        text-align: right;\n",
       "    }\n",
       "\n",
       "    .dataframe thead th {\n",
       "        text-align: left;\n",
       "    }\n",
       "\n",
       "    .dataframe tbody tr th {\n",
       "        vertical-align: top;\n",
       "    }\n",
       "</style>\n",
       "<table border=\"1\" class=\"dataframe\">\n",
       "  <thead>\n",
       "    <tr style=\"text-align: right;\">\n",
       "      <th></th>\n",
       "      <th>y_mean</th>\n",
       "      <th>y_median</th>\n",
       "      <th>y_mode</th>\n",
       "      <th>y_orig</th>\n",
       "      <th>y_prediction</th>\n",
       "    </tr>\n",
       "  </thead>\n",
       "  <tbody>\n",
       "    <tr>\n",
       "      <th>6</th>\n",
       "      <td>962.433942</td>\n",
       "      <td>961.0</td>\n",
       "      <td>864.0</td>\n",
       "      <td>1694</td>\n",
       "      <td>1345.670401</td>\n",
       "    </tr>\n",
       "    <tr>\n",
       "      <th>13</th>\n",
       "      <td>962.433942</td>\n",
       "      <td>961.0</td>\n",
       "      <td>864.0</td>\n",
       "      <td>1494</td>\n",
       "      <td>1254.488311</td>\n",
       "    </tr>\n",
       "    <tr>\n",
       "      <th>19</th>\n",
       "      <td>962.433942</td>\n",
       "      <td>961.0</td>\n",
       "      <td>864.0</td>\n",
       "      <td>1339</td>\n",
       "      <td>1033.656687</td>\n",
       "    </tr>\n",
       "    <tr>\n",
       "      <th>22</th>\n",
       "      <td>962.433942</td>\n",
       "      <td>961.0</td>\n",
       "      <td>864.0</td>\n",
       "      <td>1795</td>\n",
       "      <td>1388.886913</td>\n",
       "    </tr>\n",
       "    <tr>\n",
       "      <th>25</th>\n",
       "      <td>962.433942</td>\n",
       "      <td>961.0</td>\n",
       "      <td>864.0</td>\n",
       "      <td>1600</td>\n",
       "      <td>1288.681595</td>\n",
       "    </tr>\n",
       "  </tbody>\n",
       "</table>\n",
       "</div>"
      ],
      "text/plain": [
       "        y_mean  y_median  y_mode  y_orig  y_prediction\n",
       "6   962.433942     961.0   864.0    1694   1345.670401\n",
       "13  962.433942     961.0   864.0    1494   1254.488311\n",
       "19  962.433942     961.0   864.0    1339   1033.656687\n",
       "22  962.433942     961.0   864.0    1795   1388.886913\n",
       "25  962.433942     961.0   864.0    1600   1288.681595"
      ]
     },
     "execution_count": 20,
     "metadata": {},
     "output_type": "execute_result"
    }
   ],
   "source": [
    "compare = pd.DataFrame({'y_orig':y_orig,'y_prediction':y_prediction,'y_mean':y_mean,'y_median':y_median,'y_mode':y_mode},index=poz)\n",
    "compare.head()"
   ]
  },
  {
   "cell_type": "markdown",
   "metadata": {},
   "source": [
    "# The End"
   ]
  }
 ],
 "metadata": {
  "kernelspec": {
   "display_name": "Python 2",
   "language": "python",
   "name": "python2"
  },
  "language_info": {
   "codemirror_mode": {
    "name": "ipython",
    "version": 2
   },
   "file_extension": ".py",
   "mimetype": "text/x-python",
   "name": "python",
   "nbconvert_exporter": "python",
   "pygments_lexer": "ipython2",
   "version": "2.7.14"
  }
 },
 "nbformat": 4,
 "nbformat_minor": 2
}
